{
 "cells": [
  {
   "cell_type": "markdown",
   "id": "ec6a24b3-4580-41c6-804f-4a2fcd12a872",
   "metadata": {},
   "source": [
    "# 1. Importing Libraries"
   ]
  },
  {
   "cell_type": "code",
   "execution_count": 1,
   "id": "dbf10a71-c0b9-4770-95f3-caa09de97106",
   "metadata": {},
   "outputs": [],
   "source": [
    "# Import necessary libraries\n",
    "import pandas as pd\n",
    "import numpy as np\n",
    "import json"
   ]
  },
  {
   "cell_type": "markdown",
   "id": "6f6164dd-92bf-4ea0-bf18-41322ead5356",
   "metadata": {},
   "source": [
    "# 2. Loading Data "
   ]
  },
  {
   "cell_type": "code",
   "execution_count": 2,
   "id": "44333f94-88a6-4bae-a370-b809f3b79f8b",
   "metadata": {},
   "outputs": [],
   "source": [
    "# Load the movie and credit datasets from CSV files\n",
    "movies = pd.read_csv('tmdb_5000_movies.csv')\n",
    "credits = pd.read_csv('tmdb_5000_credits.csv')"
   ]
  },
  {
   "cell_type": "markdown",
   "id": "57980bb2-a527-4632-8bd9-2419da6e8fe6",
   "metadata": {},
   "source": [
    "# 3. Merging Datasets"
   ]
  },
  {
   "cell_type": "code",
   "execution_count": 3,
   "id": "e0e1a5e6-0c1f-48b9-ae3a-209afff07994",
   "metadata": {
    "scrolled": true
   },
   "outputs": [
    {
     "data": {
      "text/html": [
       "<div>\n",
       "<style scoped>\n",
       "    .dataframe tbody tr th:only-of-type {\n",
       "        vertical-align: middle;\n",
       "    }\n",
       "\n",
       "    .dataframe tbody tr th {\n",
       "        vertical-align: top;\n",
       "    }\n",
       "\n",
       "    .dataframe thead th {\n",
       "        text-align: right;\n",
       "    }\n",
       "</style>\n",
       "<table border=\"1\" class=\"dataframe\">\n",
       "  <thead>\n",
       "    <tr style=\"text-align: right;\">\n",
       "      <th></th>\n",
       "      <th>budget</th>\n",
       "      <th>genres</th>\n",
       "      <th>homepage</th>\n",
       "      <th>id</th>\n",
       "      <th>keywords</th>\n",
       "      <th>original_language</th>\n",
       "      <th>original_title</th>\n",
       "      <th>overview</th>\n",
       "      <th>popularity</th>\n",
       "      <th>production_companies</th>\n",
       "      <th>...</th>\n",
       "      <th>runtime</th>\n",
       "      <th>spoken_languages</th>\n",
       "      <th>status</th>\n",
       "      <th>tagline</th>\n",
       "      <th>title</th>\n",
       "      <th>vote_average</th>\n",
       "      <th>vote_count</th>\n",
       "      <th>movie_id</th>\n",
       "      <th>cast</th>\n",
       "      <th>crew</th>\n",
       "    </tr>\n",
       "  </thead>\n",
       "  <tbody>\n",
       "    <tr>\n",
       "      <th>0</th>\n",
       "      <td>237000000</td>\n",
       "      <td>[{\"id\": 28, \"name\": \"Action\"}, {\"id\": 12, \"nam...</td>\n",
       "      <td>http://www.avatarmovie.com/</td>\n",
       "      <td>19995</td>\n",
       "      <td>[{\"id\": 1463, \"name\": \"culture clash\"}, {\"id\":...</td>\n",
       "      <td>en</td>\n",
       "      <td>Avatar</td>\n",
       "      <td>In the 22nd century, a paraplegic Marine is di...</td>\n",
       "      <td>150.437577</td>\n",
       "      <td>[{\"name\": \"Ingenious Film Partners\", \"id\": 289...</td>\n",
       "      <td>...</td>\n",
       "      <td>162.0</td>\n",
       "      <td>[{\"iso_639_1\": \"en\", \"name\": \"English\"}, {\"iso...</td>\n",
       "      <td>Released</td>\n",
       "      <td>Enter the World of Pandora.</td>\n",
       "      <td>Avatar</td>\n",
       "      <td>7.2</td>\n",
       "      <td>11800</td>\n",
       "      <td>19995</td>\n",
       "      <td>[{\"cast_id\": 242, \"character\": \"Jake Sully\", \"...</td>\n",
       "      <td>[{\"credit_id\": \"52fe48009251416c750aca23\", \"de...</td>\n",
       "    </tr>\n",
       "    <tr>\n",
       "      <th>1</th>\n",
       "      <td>300000000</td>\n",
       "      <td>[{\"id\": 12, \"name\": \"Adventure\"}, {\"id\": 14, \"...</td>\n",
       "      <td>http://disney.go.com/disneypictures/pirates/</td>\n",
       "      <td>285</td>\n",
       "      <td>[{\"id\": 270, \"name\": \"ocean\"}, {\"id\": 726, \"na...</td>\n",
       "      <td>en</td>\n",
       "      <td>Pirates of the Caribbean: At World's End</td>\n",
       "      <td>Captain Barbossa, long believed to be dead, ha...</td>\n",
       "      <td>139.082615</td>\n",
       "      <td>[{\"name\": \"Walt Disney Pictures\", \"id\": 2}, {\"...</td>\n",
       "      <td>...</td>\n",
       "      <td>169.0</td>\n",
       "      <td>[{\"iso_639_1\": \"en\", \"name\": \"English\"}]</td>\n",
       "      <td>Released</td>\n",
       "      <td>At the end of the world, the adventure begins.</td>\n",
       "      <td>Pirates of the Caribbean: At World's End</td>\n",
       "      <td>6.9</td>\n",
       "      <td>4500</td>\n",
       "      <td>285</td>\n",
       "      <td>[{\"cast_id\": 4, \"character\": \"Captain Jack Spa...</td>\n",
       "      <td>[{\"credit_id\": \"52fe4232c3a36847f800b579\", \"de...</td>\n",
       "    </tr>\n",
       "    <tr>\n",
       "      <th>2</th>\n",
       "      <td>245000000</td>\n",
       "      <td>[{\"id\": 28, \"name\": \"Action\"}, {\"id\": 12, \"nam...</td>\n",
       "      <td>http://www.sonypictures.com/movies/spectre/</td>\n",
       "      <td>206647</td>\n",
       "      <td>[{\"id\": 470, \"name\": \"spy\"}, {\"id\": 818, \"name...</td>\n",
       "      <td>en</td>\n",
       "      <td>Spectre</td>\n",
       "      <td>A cryptic message from Bond’s past sends him o...</td>\n",
       "      <td>107.376788</td>\n",
       "      <td>[{\"name\": \"Columbia Pictures\", \"id\": 5}, {\"nam...</td>\n",
       "      <td>...</td>\n",
       "      <td>148.0</td>\n",
       "      <td>[{\"iso_639_1\": \"fr\", \"name\": \"Fran\\u00e7ais\"},...</td>\n",
       "      <td>Released</td>\n",
       "      <td>A Plan No One Escapes</td>\n",
       "      <td>Spectre</td>\n",
       "      <td>6.3</td>\n",
       "      <td>4466</td>\n",
       "      <td>206647</td>\n",
       "      <td>[{\"cast_id\": 1, \"character\": \"James Bond\", \"cr...</td>\n",
       "      <td>[{\"credit_id\": \"54805967c3a36829b5002c41\", \"de...</td>\n",
       "    </tr>\n",
       "    <tr>\n",
       "      <th>3</th>\n",
       "      <td>250000000</td>\n",
       "      <td>[{\"id\": 28, \"name\": \"Action\"}, {\"id\": 80, \"nam...</td>\n",
       "      <td>http://www.thedarkknightrises.com/</td>\n",
       "      <td>49026</td>\n",
       "      <td>[{\"id\": 849, \"name\": \"dc comics\"}, {\"id\": 853,...</td>\n",
       "      <td>en</td>\n",
       "      <td>The Dark Knight Rises</td>\n",
       "      <td>Following the death of District Attorney Harve...</td>\n",
       "      <td>112.312950</td>\n",
       "      <td>[{\"name\": \"Legendary Pictures\", \"id\": 923}, {\"...</td>\n",
       "      <td>...</td>\n",
       "      <td>165.0</td>\n",
       "      <td>[{\"iso_639_1\": \"en\", \"name\": \"English\"}]</td>\n",
       "      <td>Released</td>\n",
       "      <td>The Legend Ends</td>\n",
       "      <td>The Dark Knight Rises</td>\n",
       "      <td>7.6</td>\n",
       "      <td>9106</td>\n",
       "      <td>49026</td>\n",
       "      <td>[{\"cast_id\": 2, \"character\": \"Bruce Wayne / Ba...</td>\n",
       "      <td>[{\"credit_id\": \"52fe4781c3a36847f81398c3\", \"de...</td>\n",
       "    </tr>\n",
       "    <tr>\n",
       "      <th>4</th>\n",
       "      <td>260000000</td>\n",
       "      <td>[{\"id\": 28, \"name\": \"Action\"}, {\"id\": 12, \"nam...</td>\n",
       "      <td>http://movies.disney.com/john-carter</td>\n",
       "      <td>49529</td>\n",
       "      <td>[{\"id\": 818, \"name\": \"based on novel\"}, {\"id\":...</td>\n",
       "      <td>en</td>\n",
       "      <td>John Carter</td>\n",
       "      <td>John Carter is a war-weary, former military ca...</td>\n",
       "      <td>43.926995</td>\n",
       "      <td>[{\"name\": \"Walt Disney Pictures\", \"id\": 2}]</td>\n",
       "      <td>...</td>\n",
       "      <td>132.0</td>\n",
       "      <td>[{\"iso_639_1\": \"en\", \"name\": \"English\"}]</td>\n",
       "      <td>Released</td>\n",
       "      <td>Lost in our world, found in another.</td>\n",
       "      <td>John Carter</td>\n",
       "      <td>6.1</td>\n",
       "      <td>2124</td>\n",
       "      <td>49529</td>\n",
       "      <td>[{\"cast_id\": 5, \"character\": \"John Carter\", \"c...</td>\n",
       "      <td>[{\"credit_id\": \"52fe479ac3a36847f813eaa3\", \"de...</td>\n",
       "    </tr>\n",
       "  </tbody>\n",
       "</table>\n",
       "<p>5 rows × 23 columns</p>\n",
       "</div>"
      ],
      "text/plain": [
       "      budget                                             genres  \\\n",
       "0  237000000  [{\"id\": 28, \"name\": \"Action\"}, {\"id\": 12, \"nam...   \n",
       "1  300000000  [{\"id\": 12, \"name\": \"Adventure\"}, {\"id\": 14, \"...   \n",
       "2  245000000  [{\"id\": 28, \"name\": \"Action\"}, {\"id\": 12, \"nam...   \n",
       "3  250000000  [{\"id\": 28, \"name\": \"Action\"}, {\"id\": 80, \"nam...   \n",
       "4  260000000  [{\"id\": 28, \"name\": \"Action\"}, {\"id\": 12, \"nam...   \n",
       "\n",
       "                                       homepage      id  \\\n",
       "0                   http://www.avatarmovie.com/   19995   \n",
       "1  http://disney.go.com/disneypictures/pirates/     285   \n",
       "2   http://www.sonypictures.com/movies/spectre/  206647   \n",
       "3            http://www.thedarkknightrises.com/   49026   \n",
       "4          http://movies.disney.com/john-carter   49529   \n",
       "\n",
       "                                            keywords original_language  \\\n",
       "0  [{\"id\": 1463, \"name\": \"culture clash\"}, {\"id\":...                en   \n",
       "1  [{\"id\": 270, \"name\": \"ocean\"}, {\"id\": 726, \"na...                en   \n",
       "2  [{\"id\": 470, \"name\": \"spy\"}, {\"id\": 818, \"name...                en   \n",
       "3  [{\"id\": 849, \"name\": \"dc comics\"}, {\"id\": 853,...                en   \n",
       "4  [{\"id\": 818, \"name\": \"based on novel\"}, {\"id\":...                en   \n",
       "\n",
       "                             original_title  \\\n",
       "0                                    Avatar   \n",
       "1  Pirates of the Caribbean: At World's End   \n",
       "2                                   Spectre   \n",
       "3                     The Dark Knight Rises   \n",
       "4                               John Carter   \n",
       "\n",
       "                                            overview  popularity  \\\n",
       "0  In the 22nd century, a paraplegic Marine is di...  150.437577   \n",
       "1  Captain Barbossa, long believed to be dead, ha...  139.082615   \n",
       "2  A cryptic message from Bond’s past sends him o...  107.376788   \n",
       "3  Following the death of District Attorney Harve...  112.312950   \n",
       "4  John Carter is a war-weary, former military ca...   43.926995   \n",
       "\n",
       "                                production_companies  ... runtime  \\\n",
       "0  [{\"name\": \"Ingenious Film Partners\", \"id\": 289...  ...   162.0   \n",
       "1  [{\"name\": \"Walt Disney Pictures\", \"id\": 2}, {\"...  ...   169.0   \n",
       "2  [{\"name\": \"Columbia Pictures\", \"id\": 5}, {\"nam...  ...   148.0   \n",
       "3  [{\"name\": \"Legendary Pictures\", \"id\": 923}, {\"...  ...   165.0   \n",
       "4        [{\"name\": \"Walt Disney Pictures\", \"id\": 2}]  ...   132.0   \n",
       "\n",
       "                                    spoken_languages    status  \\\n",
       "0  [{\"iso_639_1\": \"en\", \"name\": \"English\"}, {\"iso...  Released   \n",
       "1           [{\"iso_639_1\": \"en\", \"name\": \"English\"}]  Released   \n",
       "2  [{\"iso_639_1\": \"fr\", \"name\": \"Fran\\u00e7ais\"},...  Released   \n",
       "3           [{\"iso_639_1\": \"en\", \"name\": \"English\"}]  Released   \n",
       "4           [{\"iso_639_1\": \"en\", \"name\": \"English\"}]  Released   \n",
       "\n",
       "                                          tagline  \\\n",
       "0                     Enter the World of Pandora.   \n",
       "1  At the end of the world, the adventure begins.   \n",
       "2                           A Plan No One Escapes   \n",
       "3                                 The Legend Ends   \n",
       "4            Lost in our world, found in another.   \n",
       "\n",
       "                                      title vote_average vote_count movie_id  \\\n",
       "0                                    Avatar          7.2      11800    19995   \n",
       "1  Pirates of the Caribbean: At World's End          6.9       4500      285   \n",
       "2                                   Spectre          6.3       4466   206647   \n",
       "3                     The Dark Knight Rises          7.6       9106    49026   \n",
       "4                               John Carter          6.1       2124    49529   \n",
       "\n",
       "                                                cast  \\\n",
       "0  [{\"cast_id\": 242, \"character\": \"Jake Sully\", \"...   \n",
       "1  [{\"cast_id\": 4, \"character\": \"Captain Jack Spa...   \n",
       "2  [{\"cast_id\": 1, \"character\": \"James Bond\", \"cr...   \n",
       "3  [{\"cast_id\": 2, \"character\": \"Bruce Wayne / Ba...   \n",
       "4  [{\"cast_id\": 5, \"character\": \"John Carter\", \"c...   \n",
       "\n",
       "                                                crew  \n",
       "0  [{\"credit_id\": \"52fe48009251416c750aca23\", \"de...  \n",
       "1  [{\"credit_id\": \"52fe4232c3a36847f800b579\", \"de...  \n",
       "2  [{\"credit_id\": \"54805967c3a36829b5002c41\", \"de...  \n",
       "3  [{\"credit_id\": \"52fe4781c3a36847f81398c3\", \"de...  \n",
       "4  [{\"credit_id\": \"52fe479ac3a36847f813eaa3\", \"de...  \n",
       "\n",
       "[5 rows x 23 columns]"
      ]
     },
     "execution_count": 3,
     "metadata": {},
     "output_type": "execute_result"
    }
   ],
   "source": [
    "# Merge the two datasets on the 'title' column\n",
    "movies = movies.merge(credits, on='title')\n",
    "movies.head() # preview first few rows"
   ]
  },
  {
   "cell_type": "markdown",
   "id": "6881aa8f-4315-49c3-97a4-43d7c499141b",
   "metadata": {},
   "source": [
    "# 4. Data Cleaning and Feature Selection\n",
    "   ## 1. Selecting Essential Columns"
   ]
  },
  {
   "cell_type": "code",
   "execution_count": 4,
   "id": "1ab80242-8206-4b7a-87b4-99b8aaa934cb",
   "metadata": {},
   "outputs": [],
   "source": [
    "# Keep only the essential columns for our recommender system\n",
    "movies = movies[['movie_id', 'title', 'overview', 'genres', 'keywords', 'cast', 'crew']]"
   ]
  },
  {
   "cell_type": "markdown",
   "id": "a5839d88-3f44-4acc-8e54-3f0bf7305af7",
   "metadata": {},
   "source": [
    "## 2.Defining Helper Functions to Parse JSON Data"
   ]
  },
  {
   "cell_type": "code",
   "execution_count": 5,
   "id": "fb0021d7-babe-42b9-a946-beb5134bcaee",
   "metadata": {},
   "outputs": [],
   "source": [
    "# Define helper functions to parse JSON strings and extract specific information\n",
    "def parse_json(text):\n",
    "    \"\"\"Safely parses a JSON string into a Python object.\"\"\"\n",
    "    try:\n",
    "        return json.loads(text)\n",
    "    except:\n",
    "        return []\n",
    "\n",
    "def get_genres(text):\n",
    "    \"\"\"Extracts a list of genre names from a JSON string.\"\"\"\n",
    "    data = parse_json(text)\n",
    "    return [d['name'] for d in data if 'name' in d]\n",
    "\n",
    "def get_keywords(text):\n",
    "    \"\"\"Extracts a list of keyword names from a JSON string.\"\"\"\n",
    "    data = parse_json(text)\n",
    "    return [d['name'] for d in data if 'name' in d]\n",
    "\n",
    "def get_top_cast(text):\n",
    "    \"\"\"Extracts the names of the top 3 cast members from a JSON string.\"\"\"\n",
    "    data = parse_json(text)\n",
    "    return [d['name'] for d in data[:3] if 'name' in d]\n",
    "\n",
    "def get_director(text):\n",
    "    \"\"\"Extracts the name of the director from a JSON string.\"\"\"\n",
    "    data = parse_json(text)\n",
    "    for d in data:\n",
    "        if d.get('job') == 'Director':\n",
    "            return [d['name']]\n",
    "    return []"
   ]
  },
  {
   "cell_type": "markdown",
   "id": "34989eea-c9d7-4e82-b16f-fbb307d55aa3",
   "metadata": {},
   "source": [
    "## 3. Applying Helper Functions to Clean Columns"
   ]
  },
  {
   "cell_type": "code",
   "execution_count": 6,
   "id": "25980b7f-bec7-47ff-b239-192a984f2f5f",
   "metadata": {},
   "outputs": [],
   "source": [
    "# Apply the helper functions to clean the respective columns\n",
    "movies['genres'] = movies['genres'].apply(get_genres)\n",
    "movies['keywords'] = movies['keywords'].apply(get_keywords)\n",
    "movies['cast'] = movies['cast'].apply(get_top_cast)\n",
    "movies['crew'] = movies['crew'].apply(get_director)"
   ]
  },
  {
   "cell_type": "markdown",
   "id": "a6a847e3-da21-4060-8720-b86235682b7e",
   "metadata": {},
   "source": [
    "## 4. Combining Features and Lowercasing"
   ]
  },
  {
   "cell_type": "code",
   "execution_count": 7,
   "id": "851c92ad-6f00-4f48-8872-494a87333331",
   "metadata": {},
   "outputs": [],
   "source": [
    "# Combine all relevant features into a single 'tags' column\n",
    "# We also convert the tags to lowercase for consistency\n",
    "movies['tags'] = movies['genres'] + movies['keywords'] + movies['cast'] + movies['crew']\n",
    "movies['tags'] = movies['tags'].apply(lambda x: \" \".join(x).lower())"
   ]
  },
  {
   "cell_type": "markdown",
   "id": "e496b3fb-e408-4a9d-b8e4-0d53c5d061e7",
   "metadata": {},
   "source": [
    "## 5. Dropping Original Columns"
   ]
  },
  {
   "cell_type": "code",
   "execution_count": 8,
   "id": "a823fbcb-22e2-4ac6-9369-fc934389ad10",
   "metadata": {},
   "outputs": [],
   "source": [
    "# Drop the individual feature columns as they are now combined in 'tags'\n",
    "movies = movies[['movie_id', 'title', 'tags']]"
   ]
  },
  {
   "cell_type": "markdown",
   "id": "8548a762-b55d-4e05-b424-8b2bf55c749f",
   "metadata": {},
   "source": [
    "# 5. Vectorization and Similarity Calculation\n",
    "## 1. Vectorization"
   ]
  },
  {
   "cell_type": "code",
   "execution_count": 9,
   "id": "2612438a-87b1-4bcf-b124-2c26ee2ab941",
   "metadata": {},
   "outputs": [],
   "source": [
    "from sklearn.feature_extraction.text import CountVectorizer\n",
    "\n",
    "# Initialize CountVectorizer to convert text into a matrix of token counts\n",
    "# We limit to the top 5000 features and remove common English stop words\n",
    "cv = CountVectorizer(max_features=5000, stop_words='english')\n",
    "\n",
    "# Fit and transform the 'tags' column to create the feature vectors\n",
    "vectors = cv.fit_transform(movies['tags']).toarray()"
   ]
  },
  {
   "cell_type": "markdown",
   "id": "12f5902c-f3cb-4c39-8972-def42322ddf0",
   "metadata": {},
   "source": [
    "## 2. Calculating Cosine Similarity"
   ]
  },
  {
   "cell_type": "code",
   "execution_count": 10,
   "id": "ebbef2e9-5c79-4bc8-95a5-910e18c73945",
   "metadata": {},
   "outputs": [],
   "source": [
    "from sklearn.metrics.pairwise import cosine_similarity\n",
    "\n",
    "# Calculate the cosine similarity matrix for all movies\n",
    "similarity = cosine_similarity(vectors)"
   ]
  },
  {
   "cell_type": "markdown",
   "id": "fab37d98-27c7-4188-9caf-1a3093bc0bc7",
   "metadata": {},
   "source": [
    "# 6. Recommendation Function"
   ]
  },
  {
   "cell_type": "code",
   "execution_count": 11,
   "id": "2f2e7b72-780c-4643-964a-0d97c7256ad2",
   "metadata": {},
   "outputs": [],
   "source": [
    "def recommend(movie):\n",
    "    \"\"\"\n",
    "    Recommends top 5 movies similar to the given movie title.\n",
    "    \n",
    "    Args:\n",
    "        movie (str): The title of the movie to get recommendations for.\n",
    "    \"\"\"\n",
    "    # Find the index of the input movie\n",
    "    movie_index = movies[movies['title'] == movie].index[0]\n",
    "    \n",
    "    # Get the similarity scores for the input movie with all other movies\n",
    "    distances = similarity[movie_index]\n",
    "    \n",
    "    # Sort the movies by similarity score in descending order\n",
    "    # The [1:6] slice gets the top 5 recommendations (excluding the movie itself)\n",
    "    movie_list = sorted(list(enumerate(distances)), reverse=True, key=lambda x: x[1])[1:6]\n",
    "    \n",
    "    # Print the titles of the recommended movies\n",
    "    print(\"Recommendations for {}:\".format(movie))\n",
    "    for i in movie_list:\n",
    "        print(movies.iloc[i[0]].title)"
   ]
  },
  {
   "cell_type": "markdown",
   "id": "c56ddec8-55e2-4ee7-b7c8-8181f0bc0dff",
   "metadata": {},
   "source": [
    "# 7. Testing the Recommender"
   ]
  },
  {
   "cell_type": "code",
   "execution_count": 13,
   "id": "0b01e84a-c324-4e27-980a-b276dc27db5b",
   "metadata": {},
   "outputs": [
    {
     "name": "stdout",
     "output_type": "stream",
     "text": [
      "Recommendations for Avatar:\n",
      "Aliens\n",
      "Alien³\n",
      "Alien\n",
      "Star Trek Into Darkness\n",
      "Silent Running\n",
      "Recommendations for John Carter:\n",
      "Mission to Mars\n",
      "Ender's Game\n",
      "The 5th Wave\n",
      "The Hitchhiker's Guide to the Galaxy\n",
      "The Host\n"
     ]
    }
   ],
   "source": [
    "# Get recommendations for 'Avatar'\n",
    "recommend('Avatar')\n",
    "\n",
    "# Get recommendations for 'John Carter'\n",
    "recommend('John Carter')"
   ]
  },
  {
   "cell_type": "markdown",
   "id": "62e99e7c-3d98-4ba0-b087-0b3090a4cd9c",
   "metadata": {},
   "source": [
    "# 8. Saving the Model"
   ]
  },
  {
   "cell_type": "code",
   "execution_count": 12,
   "id": "52c55190-f5db-45c7-8117-2c89a6554d74",
   "metadata": {},
   "outputs": [],
   "source": [
    "import pickle\n",
    "\n",
    "# Save the movies DataFrame and the similarity matrix to files\n",
    "pickle.dump(movies, open('movies.pkl', 'wb'))\n",
    "pickle.dump(similarity, open('similarity.pkl', 'wb'))"
   ]
  },
  {
   "cell_type": "code",
   "execution_count": null,
   "id": "6fa74909-7928-464e-9868-487d00d2bc19",
   "metadata": {},
   "outputs": [],
   "source": []
  }
 ],
 "metadata": {
  "kernelspec": {
   "display_name": "Python 3 (ipykernel)",
   "language": "python",
   "name": "python3"
  },
  "language_info": {
   "codemirror_mode": {
    "name": "ipython",
    "version": 3
   },
   "file_extension": ".py",
   "mimetype": "text/x-python",
   "name": "python",
   "nbconvert_exporter": "python",
   "pygments_lexer": "ipython3",
   "version": "3.10.0"
  }
 },
 "nbformat": 4,
 "nbformat_minor": 5
}
